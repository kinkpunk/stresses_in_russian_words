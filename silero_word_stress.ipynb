{
 "cells": [
  {
   "cell_type": "code",
   "execution_count": 1,
   "metadata": {},
   "outputs": [],
   "source": [
    "# import libraries \n",
    "import numpy as np\n",
    "import pandas as pd"
   ]
  },
  {
   "cell_type": "code",
   "execution_count": 2,
   "metadata": {},
   "outputs": [],
   "source": [
    "from sklearn.model_selection import train_test_split\n",
    "from sklearn.metrics import accuracy_score\n",
    "\n",
    "from catboost import CatBoostClassifier, Pool"
   ]
  },
  {
   "cell_type": "code",
   "execution_count": 3,
   "metadata": {},
   "outputs": [],
   "source": [
    "# load train and test data\n",
    "train = pd.read_csv('D:/kaggle_data/Silero/train.csv')\n",
    "test = pd.read_csv('D:/kaggle_data/Silero/test.csv')\n",
    "submission = pd.read_csv('D:/kaggle_data/Silero/sample_submission.csv')"
   ]
  },
  {
   "cell_type": "code",
   "execution_count": 4,
   "metadata": {},
   "outputs": [
    {
     "data": {
      "text/html": [
       "<div>\n",
       "<style scoped>\n",
       "    .dataframe tbody tr th:only-of-type {\n",
       "        vertical-align: middle;\n",
       "    }\n",
       "\n",
       "    .dataframe tbody tr th {\n",
       "        vertical-align: top;\n",
       "    }\n",
       "\n",
       "    .dataframe thead th {\n",
       "        text-align: right;\n",
       "    }\n",
       "</style>\n",
       "<table border=\"1\" class=\"dataframe\">\n",
       "  <thead>\n",
       "    <tr style=\"text-align: right;\">\n",
       "      <th></th>\n",
       "      <th>id</th>\n",
       "      <th>word</th>\n",
       "      <th>stress</th>\n",
       "      <th>num_syllables</th>\n",
       "      <th>lemma</th>\n",
       "    </tr>\n",
       "  </thead>\n",
       "  <tbody>\n",
       "    <tr>\n",
       "      <th>58532</th>\n",
       "      <td>58532</td>\n",
       "      <td>диссертационный</td>\n",
       "      <td>5</td>\n",
       "      <td>6</td>\n",
       "      <td>диссертационный</td>\n",
       "    </tr>\n",
       "    <tr>\n",
       "      <th>28058</th>\n",
       "      <td>28058</td>\n",
       "      <td>тревожный</td>\n",
       "      <td>2</td>\n",
       "      <td>3</td>\n",
       "      <td>тревожный</td>\n",
       "    </tr>\n",
       "    <tr>\n",
       "      <th>32565</th>\n",
       "      <td>32565</td>\n",
       "      <td>нержавеющая</td>\n",
       "      <td>3</td>\n",
       "      <td>6</td>\n",
       "      <td>нержавеющий</td>\n",
       "    </tr>\n",
       "    <tr>\n",
       "      <th>31902</th>\n",
       "      <td>31902</td>\n",
       "      <td>ругали</td>\n",
       "      <td>2</td>\n",
       "      <td>3</td>\n",
       "      <td>ругать</td>\n",
       "    </tr>\n",
       "    <tr>\n",
       "      <th>55980</th>\n",
       "      <td>55980</td>\n",
       "      <td>тираж</td>\n",
       "      <td>2</td>\n",
       "      <td>2</td>\n",
       "      <td>тираж</td>\n",
       "    </tr>\n",
       "    <tr>\n",
       "      <th>39542</th>\n",
       "      <td>39542</td>\n",
       "      <td>соломонович</td>\n",
       "      <td>3</td>\n",
       "      <td>5</td>\n",
       "      <td>соломонович</td>\n",
       "    </tr>\n",
       "    <tr>\n",
       "      <th>17804</th>\n",
       "      <td>17804</td>\n",
       "      <td>входящих</td>\n",
       "      <td>2</td>\n",
       "      <td>3</td>\n",
       "      <td>входить</td>\n",
       "    </tr>\n",
       "    <tr>\n",
       "      <th>23033</th>\n",
       "      <td>23033</td>\n",
       "      <td>аккредитивы</td>\n",
       "      <td>4</td>\n",
       "      <td>5</td>\n",
       "      <td>аккредитив</td>\n",
       "    </tr>\n",
       "    <tr>\n",
       "      <th>47124</th>\n",
       "      <td>47124</td>\n",
       "      <td>судимости</td>\n",
       "      <td>2</td>\n",
       "      <td>4</td>\n",
       "      <td>судимость</td>\n",
       "    </tr>\n",
       "    <tr>\n",
       "      <th>56020</th>\n",
       "      <td>56020</td>\n",
       "      <td>фронтовик</td>\n",
       "      <td>3</td>\n",
       "      <td>3</td>\n",
       "      <td>фронтовик</td>\n",
       "    </tr>\n",
       "  </tbody>\n",
       "</table>\n",
       "</div>"
      ],
      "text/plain": [
       "          id             word  stress  num_syllables            lemma\n",
       "58532  58532  диссертационный       5              6  диссертационный\n",
       "28058  28058        тревожный       2              3        тревожный\n",
       "32565  32565      нержавеющая       3              6      нержавеющий\n",
       "31902  31902           ругали       2              3           ругать\n",
       "55980  55980            тираж       2              2            тираж\n",
       "39542  39542      соломонович       3              5      соломонович\n",
       "17804  17804         входящих       2              3          входить\n",
       "23033  23033      аккредитивы       4              5       аккредитив\n",
       "47124  47124        судимости       2              4        судимость\n",
       "56020  56020        фронтовик       3              3        фронтовик"
      ]
     },
     "execution_count": 4,
     "metadata": {},
     "output_type": "execute_result"
    }
   ],
   "source": [
    "# look on the data\n",
    "train.sample(10)"
   ]
  },
  {
   "cell_type": "code",
   "execution_count": 5,
   "metadata": {},
   "outputs": [
    {
     "data": {
      "text/plain": [
       "(63438, 23543)"
      ]
     },
     "execution_count": 5,
     "metadata": {},
     "output_type": "execute_result"
    }
   ],
   "source": [
    "train.word.nunique(), train.lemma.nunique()"
   ]
  },
  {
   "cell_type": "markdown",
   "metadata": {},
   "source": [
    "Как видно из полученных выше значений, количество уникальных значений в столбце *'word'* больше чем в 2,5 раза"
   ]
  },
  {
   "cell_type": "code",
   "execution_count": 6,
   "metadata": {},
   "outputs": [
    {
     "data": {
      "text/html": [
       "<div>\n",
       "<style scoped>\n",
       "    .dataframe tbody tr th:only-of-type {\n",
       "        vertical-align: middle;\n",
       "    }\n",
       "\n",
       "    .dataframe tbody tr th {\n",
       "        vertical-align: top;\n",
       "    }\n",
       "\n",
       "    .dataframe thead th {\n",
       "        text-align: right;\n",
       "    }\n",
       "</style>\n",
       "<table border=\"1\" class=\"dataframe\">\n",
       "  <thead>\n",
       "    <tr style=\"text-align: right;\">\n",
       "      <th></th>\n",
       "      <th>id</th>\n",
       "      <th>word</th>\n",
       "      <th>stress</th>\n",
       "      <th>num_syllables</th>\n",
       "      <th>lemma</th>\n",
       "    </tr>\n",
       "  </thead>\n",
       "  <tbody>\n",
       "    <tr>\n",
       "      <th>6</th>\n",
       "      <td>6</td>\n",
       "      <td>чёрта</td>\n",
       "      <td>1</td>\n",
       "      <td>2</td>\n",
       "      <td>черт</td>\n",
       "    </tr>\n",
       "    <tr>\n",
       "      <th>1628</th>\n",
       "      <td>1628</td>\n",
       "      <td>чертей</td>\n",
       "      <td>2</td>\n",
       "      <td>2</td>\n",
       "      <td>черт</td>\n",
       "    </tr>\n",
       "    <tr>\n",
       "      <th>5819</th>\n",
       "      <td>5819</td>\n",
       "      <td>чертям</td>\n",
       "      <td>2</td>\n",
       "      <td>2</td>\n",
       "      <td>черт</td>\n",
       "    </tr>\n",
       "    <tr>\n",
       "      <th>10062</th>\n",
       "      <td>10062</td>\n",
       "      <td>черти</td>\n",
       "      <td>1</td>\n",
       "      <td>2</td>\n",
       "      <td>черт</td>\n",
       "    </tr>\n",
       "    <tr>\n",
       "      <th>15964</th>\n",
       "      <td>15964</td>\n",
       "      <td>чертом</td>\n",
       "      <td>1</td>\n",
       "      <td>2</td>\n",
       "      <td>черт</td>\n",
       "    </tr>\n",
       "    <tr>\n",
       "      <th>56737</th>\n",
       "      <td>56737</td>\n",
       "      <td>чёрту</td>\n",
       "      <td>1</td>\n",
       "      <td>2</td>\n",
       "      <td>черт</td>\n",
       "    </tr>\n",
       "  </tbody>\n",
       "</table>\n",
       "</div>"
      ],
      "text/plain": [
       "          id    word  stress  num_syllables lemma\n",
       "6          6   чёрта       1              2  черт\n",
       "1628    1628  чертей       2              2  черт\n",
       "5819    5819  чертям       2              2  черт\n",
       "10062  10062   черти       1              2  черт\n",
       "15964  15964  чертом       1              2  черт\n",
       "56737  56737   чёрту       1              2  черт"
      ]
     },
     "execution_count": 6,
     "metadata": {},
     "output_type": "execute_result"
    }
   ],
   "source": [
    "# look at the different forms of the word\n",
    "train[train['lemma'] == 'черт']"
   ]
  },
  {
   "cell_type": "code",
   "execution_count": 7,
   "metadata": {},
   "outputs": [
    {
     "data": {
      "text/plain": [
       "'Max syllables = 6'"
      ]
     },
     "execution_count": 7,
     "metadata": {},
     "output_type": "execute_result"
    }
   ],
   "source": [
    "# what is maximum syllables in the world\n",
    "'Max syllables = {}'.format(train['num_syllables'].max())"
   ]
  },
  {
   "cell_type": "code",
   "execution_count": 8,
   "metadata": {},
   "outputs": [],
   "source": [
    "# function for divide the word into syllables\n",
    "def syllably_div(word, return_syllables=False):\n",
    "    \"\"\"divide your word on syllables\"\"\"\n",
    "    syllab_list = []\n",
    "    check_word = list(word)\n",
    "    syllab = []\n",
    "    counter = 0 \n",
    "    vowels = ['а', 'у', 'о', 'ы', 'э', 'я', 'ю', 'ё', 'и', 'е']\n",
    "    #print(word)\n",
    "    for num, letter in enumerate(check_word):    \n",
    "        if letter in vowels:\n",
    "            syllab.append(letter)\n",
    "            #print(syllab, counter)\n",
    "            counter += 1\n",
    "            syllab_list.append(syllab)\n",
    "            syllab = []\n",
    "        # elif letter in ['й', 'ь', 'ъ']:\n",
    "        #     if counter > 0:\n",
    "        #         syllab_list[counter-1].append(letter)\n",
    "        #     else:\n",
    "        #        syllab.append(letter)\n",
    "        else:\n",
    "            syllab.append(letter)\n",
    "            #print(syllab)\n",
    "    if return_syllables==True:\n",
    "        return np.array([syllab_list, counter], dtype='object')\n",
    "    return counter"
   ]
  },
  {
   "cell_type": "code",
   "execution_count": 9,
   "metadata": {},
   "outputs": [
    {
     "data": {
      "text/plain": [
       "[['н', 'ь', 'ю'], ['с', 'м', 'е'], ['й', 'к', 'е'], ['р', 'ы']]"
      ]
     },
     "execution_count": 9,
     "metadata": {},
     "output_type": "execute_result"
    }
   ],
   "source": [
    "# see how the function works\n",
    "syllably_div('ньюсмейкеры', return_syllables=True)[0]"
   ]
  },
  {
   "cell_type": "code",
   "execution_count": 10,
   "metadata": {},
   "outputs": [
    {
     "data": {
      "text/plain": [
       "1.0"
      ]
     },
     "execution_count": 10,
     "metadata": {},
     "output_type": "execute_result"
    }
   ],
   "source": [
    "# check correctly dividing into syllables\n",
    "(train['word'].apply(syllably_div) == train['num_syllables']).sum()/len(train['num_syllables'])"
   ]
  },
  {
   "cell_type": "code",
   "execution_count": 11,
   "metadata": {},
   "outputs": [],
   "source": [
    "# divide train and test data words into syllables\n",
    "syllables_data = np.array([syllably_div(i, return_syllables=True) for i in train['word']])\n",
    "syllables_data_test = np.array([syllably_div(i, return_syllables=True) for i in test['word']])"
   ]
  },
  {
   "cell_type": "code",
   "execution_count": 12,
   "metadata": {},
   "outputs": [],
   "source": [
    "# add empty list in each word that to equal length of all words\n",
    "for i,x in enumerate(syllables_data[:, 0]):  \n",
    "    while len(syllables_data[:, 0][i]) < 6:\n",
    "        syllables_data[:, 0][i].append([])"
   ]
  },
  {
   "cell_type": "code",
   "execution_count": 13,
   "metadata": {},
   "outputs": [],
   "source": [
    "for i,x in enumerate(syllables_data_test[:, 0]):  \n",
    "    while len(syllables_data_test[:, 0][i]) < 6:\n",
    "        syllables_data_test[:, 0][i].append([])"
   ]
  },
  {
   "cell_type": "code",
   "execution_count": 14,
   "metadata": {},
   "outputs": [],
   "source": [
    "# function for creating dataframe with columns of the syllables \n",
    "def syllab_dataframe(data):\n",
    "    one_syllab = []\n",
    "    two_syllab = []\n",
    "    three_syllab = []\n",
    "    four_syllab = []\n",
    "    five_syllab = []\n",
    "    six_syllab = []\n",
    "\n",
    "    for i in data:\n",
    "        one_syllab.append(''.join(i[0]))\n",
    "        two_syllab.append(''.join(i[1]))\n",
    "        three_syllab.append(''.join(i[2])) \n",
    "        four_syllab.append(''.join(i[3]))\n",
    "        five_syllab.append(''.join(i[4])) \n",
    "        six_syllab.append(''.join(i[5]))\n",
    "\n",
    "    syllables_df = pd.DataFrame(np.array([one_syllab, two_syllab, three_syllab, four_syllab, five_syllab, six_syllab], dtype='object'))\n",
    "    syllables_df = syllables_df.transpose()\n",
    "    syllables_df.columns =['one_syllab', 'two_syllab', 'three_syllab', 'four_syllab', 'five_syllab', 'six_syllab']\n",
    "    return syllables_df"
   ]
  },
  {
   "cell_type": "code",
   "execution_count": 15,
   "metadata": {},
   "outputs": [],
   "source": [
    "# from syllables create dataframe with columns of the syllables \n",
    "syllables_df_train = syllab_dataframe(syllables_data[:, 0])\n",
    "syllables_df_test = syllab_dataframe(syllables_data_test[:, 0])"
   ]
  },
  {
   "cell_type": "code",
   "execution_count": 16,
   "metadata": {},
   "outputs": [],
   "source": [
    "# some functions for adding features: end of each word and unique letter in each word\n",
    "\n",
    "def word_ending(word, lemma):\n",
    "    check_word = list(word)\n",
    "    check_lemma = list(lemma)\n",
    "    diff = abs(len(check_lemma) - len(check_word))\n",
    "    if diff != 0:\n",
    "        return ''.join(check_word[-diff:])\n",
    "    else:\n",
    "        return ''\n",
    "\n",
    "def unique_letters(word, lemma):\n",
    "    set_word = set(word)\n",
    "    set_lemma = set(lemma)\n",
    "    unique = []\n",
    "    for i in set_word:\n",
    "        if i not in set_lemma:\n",
    "            unique.append(i)\n",
    "    if len(unique) != 0:\n",
    "        return ''.join(unique)\n",
    "    else:\n",
    "        return ''    "
   ]
  },
  {
   "cell_type": "code",
   "execution_count": 17,
   "metadata": {},
   "outputs": [],
   "source": [
    "# concatenate the created data with train and test dataframe and add some features by functions\n",
    "X_train = pd.concat([train, syllables_df_train], axis=1)\n",
    "X_test = pd.concat([test, syllables_df_test], axis=1)\n",
    "X_train['ending of word'] = X_train.apply(lambda x: word_ending(x.word, x.lemma), axis=1)\n",
    "X_test['ending of word'] = X_test.apply(lambda x: word_ending(x.word, x.lemma), axis=1)\n",
    "X_train['unique letters'] = X_train.apply(lambda x: unique_letters(x.word, x.lemma), axis=1)\n",
    "X_test['unique letters'] = X_test.apply(lambda x: unique_letters(x.word, x.lemma), axis=1)"
   ]
  },
  {
   "cell_type": "code",
   "execution_count": 18,
   "metadata": {},
   "outputs": [],
   "source": [
    "y_train = X_train['stress']\n",
    "# also drop 'word' because we divided words into syllables and add them to data\n",
    "X_train.drop(['stress', 'id', 'word'], axis=1, inplace=True) \n",
    "X_test.drop(['id', 'word'], axis=1, inplace=True)"
   ]
  },
  {
   "cell_type": "code",
   "execution_count": 19,
   "metadata": {},
   "outputs": [],
   "source": [
    "# divide training dataset into training and validation dataset\n",
    "X_train, X_valid, y_train, y_valid = train_test_split(X_train, y_train, train_size=0.8, \n",
    "                                                      test_size=0.2, random_state=2022)"
   ]
  },
  {
   "cell_type": "code",
   "execution_count": 20,
   "metadata": {},
   "outputs": [
    {
     "data": {
      "text/html": [
       "<div>\n",
       "<style scoped>\n",
       "    .dataframe tbody tr th:only-of-type {\n",
       "        vertical-align: middle;\n",
       "    }\n",
       "\n",
       "    .dataframe tbody tr th {\n",
       "        vertical-align: top;\n",
       "    }\n",
       "\n",
       "    .dataframe thead th {\n",
       "        text-align: right;\n",
       "    }\n",
       "</style>\n",
       "<table border=\"1\" class=\"dataframe\">\n",
       "  <thead>\n",
       "    <tr style=\"text-align: right;\">\n",
       "      <th></th>\n",
       "      <th>num_syllables</th>\n",
       "      <th>lemma</th>\n",
       "      <th>one_syllab</th>\n",
       "      <th>two_syllab</th>\n",
       "      <th>three_syllab</th>\n",
       "      <th>four_syllab</th>\n",
       "      <th>five_syllab</th>\n",
       "      <th>six_syllab</th>\n",
       "      <th>ending of word</th>\n",
       "      <th>unique letters</th>\n",
       "    </tr>\n",
       "  </thead>\n",
       "  <tbody>\n",
       "    <tr>\n",
       "      <th>56344</th>\n",
       "      <td>3</td>\n",
       "      <td>поддерживать</td>\n",
       "      <td>по</td>\n",
       "      <td>дде</td>\n",
       "      <td>ржи</td>\n",
       "      <td></td>\n",
       "      <td></td>\n",
       "      <td></td>\n",
       "      <td>жим</td>\n",
       "      <td>м</td>\n",
       "    </tr>\n",
       "    <tr>\n",
       "      <th>39602</th>\n",
       "      <td>3</td>\n",
       "      <td>бомбежка</td>\n",
       "      <td>бо</td>\n",
       "      <td>мбе</td>\n",
       "      <td>жки</td>\n",
       "      <td></td>\n",
       "      <td></td>\n",
       "      <td></td>\n",
       "      <td></td>\n",
       "      <td>и</td>\n",
       "    </tr>\n",
       "    <tr>\n",
       "      <th>774</th>\n",
       "      <td>4</td>\n",
       "      <td>заканчивать</td>\n",
       "      <td>за</td>\n",
       "      <td>ка</td>\n",
       "      <td>нчи</td>\n",
       "      <td>ва</td>\n",
       "      <td></td>\n",
       "      <td></td>\n",
       "      <td>л</td>\n",
       "      <td>л</td>\n",
       "    </tr>\n",
       "    <tr>\n",
       "      <th>10448</th>\n",
       "      <td>4</td>\n",
       "      <td>открываться</td>\n",
       "      <td>о</td>\n",
       "      <td>ткры</td>\n",
       "      <td>ва</td>\n",
       "      <td>ться</td>\n",
       "      <td></td>\n",
       "      <td></td>\n",
       "      <td></td>\n",
       "      <td></td>\n",
       "    </tr>\n",
       "    <tr>\n",
       "      <th>1836</th>\n",
       "      <td>3</td>\n",
       "      <td>расправа</td>\n",
       "      <td>ра</td>\n",
       "      <td>спра</td>\n",
       "      <td>во</td>\n",
       "      <td></td>\n",
       "      <td></td>\n",
       "      <td></td>\n",
       "      <td>й</td>\n",
       "      <td>йо</td>\n",
       "    </tr>\n",
       "  </tbody>\n",
       "</table>\n",
       "</div>"
      ],
      "text/plain": [
       "       num_syllables         lemma one_syllab two_syllab three_syllab  \\\n",
       "56344              3  поддерживать         по        дде          ржи   \n",
       "39602              3      бомбежка         бо        мбе          жки   \n",
       "774                4   заканчивать         за         ка          нчи   \n",
       "10448              4   открываться          о       ткры           ва   \n",
       "1836               3      расправа         ра       спра           во   \n",
       "\n",
       "      four_syllab five_syllab six_syllab ending of word unique letters  \n",
       "56344                                               жим              м  \n",
       "39602                                                                и  \n",
       "774            ва                                     л              л  \n",
       "10448        ться                                                       \n",
       "1836                                                  й             йо  "
      ]
     },
     "execution_count": 20,
     "metadata": {},
     "output_type": "execute_result"
    }
   ],
   "source": [
    "# look at the data\n",
    "X_train.head(5)"
   ]
  },
  {
   "cell_type": "code",
   "execution_count": 21,
   "metadata": {},
   "outputs": [
    {
     "data": {
      "text/html": [
       "<div>\n",
       "<style scoped>\n",
       "    .dataframe tbody tr th:only-of-type {\n",
       "        vertical-align: middle;\n",
       "    }\n",
       "\n",
       "    .dataframe tbody tr th {\n",
       "        vertical-align: top;\n",
       "    }\n",
       "\n",
       "    .dataframe thead th {\n",
       "        text-align: right;\n",
       "    }\n",
       "</style>\n",
       "<table border=\"1\" class=\"dataframe\">\n",
       "  <thead>\n",
       "    <tr style=\"text-align: right;\">\n",
       "      <th></th>\n",
       "      <th>num_syllables</th>\n",
       "      <th>lemma</th>\n",
       "      <th>one_syllab</th>\n",
       "      <th>two_syllab</th>\n",
       "      <th>three_syllab</th>\n",
       "      <th>four_syllab</th>\n",
       "      <th>five_syllab</th>\n",
       "      <th>six_syllab</th>\n",
       "      <th>ending of word</th>\n",
       "      <th>unique letters</th>\n",
       "    </tr>\n",
       "  </thead>\n",
       "  <tbody>\n",
       "    <tr>\n",
       "      <th>0</th>\n",
       "      <td>5</td>\n",
       "      <td>эпилепсия</td>\n",
       "      <td>э</td>\n",
       "      <td>пи</td>\n",
       "      <td>ле</td>\n",
       "      <td>пси</td>\n",
       "      <td>я</td>\n",
       "      <td></td>\n",
       "      <td></td>\n",
       "      <td></td>\n",
       "    </tr>\n",
       "    <tr>\n",
       "      <th>1</th>\n",
       "      <td>5</td>\n",
       "      <td>относиться</td>\n",
       "      <td>о</td>\n",
       "      <td>тно</td>\n",
       "      <td>ся</td>\n",
       "      <td>ще</td>\n",
       "      <td>йся</td>\n",
       "      <td></td>\n",
       "      <td>я</td>\n",
       "      <td>йще</td>\n",
       "    </tr>\n",
       "    <tr>\n",
       "      <th>2</th>\n",
       "      <td>6</td>\n",
       "      <td>размышление</td>\n",
       "      <td>ра</td>\n",
       "      <td>змы</td>\n",
       "      <td>шле</td>\n",
       "      <td>ни</td>\n",
       "      <td>я</td>\n",
       "      <td>ми</td>\n",
       "      <td>ми</td>\n",
       "      <td>я</td>\n",
       "    </tr>\n",
       "    <tr>\n",
       "      <th>3</th>\n",
       "      <td>3</td>\n",
       "      <td>модем</td>\n",
       "      <td>мо</td>\n",
       "      <td>де</td>\n",
       "      <td>мы</td>\n",
       "      <td></td>\n",
       "      <td></td>\n",
       "      <td></td>\n",
       "      <td>ы</td>\n",
       "      <td>ы</td>\n",
       "    </tr>\n",
       "    <tr>\n",
       "      <th>4</th>\n",
       "      <td>1</td>\n",
       "      <td>солнце</td>\n",
       "      <td>со</td>\n",
       "      <td></td>\n",
       "      <td></td>\n",
       "      <td></td>\n",
       "      <td></td>\n",
       "      <td></td>\n",
       "      <td>ц</td>\n",
       "      <td></td>\n",
       "    </tr>\n",
       "  </tbody>\n",
       "</table>\n",
       "</div>"
      ],
      "text/plain": [
       "   num_syllables        lemma one_syllab two_syllab three_syllab four_syllab  \\\n",
       "0              5    эпилепсия          э         пи           ле         пси   \n",
       "1              5   относиться          о        тно           ся          ще   \n",
       "2              6  размышление         ра        змы          шле          ни   \n",
       "3              3        модем         мо         де           мы               \n",
       "4              1       солнце         со                                       \n",
       "\n",
       "  five_syllab six_syllab ending of word unique letters  \n",
       "0           я                                           \n",
       "1         йся                         я            йще  \n",
       "2           я         ми             ми              я  \n",
       "3                                     ы              ы  \n",
       "4                                     ц                 "
      ]
     },
     "execution_count": 21,
     "metadata": {},
     "output_type": "execute_result"
    }
   ],
   "source": [
    "X_test.head(5)"
   ]
  },
  {
   "cell_type": "code",
   "execution_count": 22,
   "metadata": {},
   "outputs": [
    {
     "name": "stdout",
     "output_type": "stream",
     "text": [
      "[1, 2, 3, 4, 5, 6, 7, 8, 9]\n"
     ]
    }
   ],
   "source": [
    "# point which features are categorical\n",
    "cat_features = [X_train.columns.to_list().index(cname) for cname in X_test.columns if\n",
    "                    X_test[cname].dtype == \"object\"]\n",
    "print(cat_features)"
   ]
  },
  {
   "cell_type": "code",
   "execution_count": 23,
   "metadata": {},
   "outputs": [
    {
     "name": "stdout",
     "output_type": "stream",
     "text": [
      "Learning rate set to 0.096734\n",
      "0:\tlearn: 0.6025419\ttest: 0.6067938\tbest: 0.6067938 (0)\ttotal: 33.8ms\tremaining: 1m 41s\n",
      "300:\tlearn: 0.8013793\ttest: 0.7879887\tbest: 0.7879887 (300)\ttotal: 12.7s\tremaining: 1m 54s\n",
      "600:\tlearn: 0.8444729\ttest: 0.7993380\tbest: 0.8005202 (593)\ttotal: 24.8s\tremaining: 1m 38s\n",
      "900:\tlearn: 0.8757635\ttest: 0.8037516\tbest: 0.8045397 (882)\ttotal: 36.4s\tremaining: 1m 24s\n",
      "1200:\tlearn: 0.8992315\ttest: 0.8049338\tbest: 0.8057219 (1034)\ttotal: 47s\tremaining: 1m 10s\n",
      "1500:\tlearn: 0.9183251\ttest: 0.8074559\tbest: 0.8080076 (1432)\ttotal: 58.4s\tremaining: 58.3s\n",
      "1800:\tlearn: 0.9333990\ttest: 0.8084016\tbest: 0.8087957 (1788)\ttotal: 1m 11s\tremaining: 47.3s\n",
      "2100:\tlearn: 0.9452611\ttest: 0.8084805\tbest: 0.8093474 (2039)\ttotal: 1m 23s\tremaining: 35.5s\n",
      "2400:\tlearn: 0.9547783\ttest: 0.8071406\tbest: 0.8093474 (2039)\ttotal: 1m 34s\tremaining: 23.5s\n",
      "2700:\tlearn: 0.9618719\ttest: 0.8068253\tbest: 0.8093474 (2039)\ttotal: 1m 44s\tremaining: 11.6s\n",
      "2999:\tlearn: 0.9682562\ttest: 0.8072194\tbest: 0.8093474 (2039)\ttotal: 1m 55s\tremaining: 0us\n",
      "bestTest = 0.8093474149\n",
      "bestIteration = 2039\n",
      "Shrink model to first 2040 iterations.\n"
     ]
    }
   ],
   "source": [
    "# create training and evaluation dataset by Pool and\n",
    "# use the classifier by CatBoost with some hyperparameters\n",
    "train_data = Pool(data=X_train, label=y_train, cat_features=cat_features)\n",
    "\n",
    "eval_dataset = Pool(data=X_valid,\n",
    "                    label=y_valid,\n",
    "                    cat_features=cat_features)\n",
    "                    \n",
    "\n",
    "model = CatBoostClassifier(iterations=3000,\n",
    "                           random_seed=2022,\n",
    "                           depth=8, \n",
    "                           #learning_rate=0.03,\n",
    "                           #l2_leaf_reg=7,\n",
    "                           loss_function='MultiClass',\n",
    "                           eval_metric='Accuracy',\n",
    "                           task_type=\"GPU\",\n",
    "                           devices='0:1'\n",
    "                           )\n",
    "\n",
    "# Fit model\n",
    "model.fit(train_data, use_best_model=True, eval_set=eval_dataset, verbose=300)\n",
    "          \n",
    "# Get predicted classes\n",
    "preds_class = model.predict(eval_dataset)"
   ]
  },
  {
   "cell_type": "code",
   "execution_count": 24,
   "metadata": {},
   "outputs": [
    {
     "data": {
      "text/plain": [
       "0.8093474148802018"
      ]
     },
     "execution_count": 24,
     "metadata": {},
     "output_type": "execute_result"
    }
   ],
   "source": [
    "# check accuracy\n",
    "accuracy_score(y_valid, preds_class[:,0]) \n",
    "# drop 'word' - 0.792953972257251 \n",
    "# with 'word' in data - 0.7911412358133669\n",
    "# add ending of word - 0.7991803278688525\n",
    "# add unique letters - 0.8034363177805801\n",
    "# back 'word' + all features - 0.8102931904161412\n",
    "# tuning hyperparameters CatBoost - 0.810608448928121 (best in leaderbord)"
   ]
  },
  {
   "cell_type": "code",
   "execution_count": 25,
   "metadata": {},
   "outputs": [],
   "source": [
    "# predict stresses of the words on the test data \n",
    "predict = model.predict(X_test)"
   ]
  },
  {
   "cell_type": "code",
   "execution_count": 26,
   "metadata": {},
   "outputs": [],
   "source": [
    "# create dataset with predict stresses of words\n",
    "predict_series = pd.DataFrame(predict[:,0], columns=['stress'])"
   ]
  },
  {
   "cell_type": "code",
   "execution_count": 27,
   "metadata": {},
   "outputs": [],
   "source": [
    "# create dataset with id from test data\n",
    "final_subm = pd.DataFrame(test['id'])"
   ]
  },
  {
   "cell_type": "code",
   "execution_count": 28,
   "metadata": {},
   "outputs": [],
   "source": [
    "# concatenate id and stresses of words \n",
    "final_subm = pd.concat([final_subm, predict_series], axis=1)"
   ]
  },
  {
   "cell_type": "code",
   "execution_count": 29,
   "metadata": {},
   "outputs": [
    {
     "data": {
      "text/html": [
       "<div>\n",
       "<style scoped>\n",
       "    .dataframe tbody tr th:only-of-type {\n",
       "        vertical-align: middle;\n",
       "    }\n",
       "\n",
       "    .dataframe tbody tr th {\n",
       "        vertical-align: top;\n",
       "    }\n",
       "\n",
       "    .dataframe thead th {\n",
       "        text-align: right;\n",
       "    }\n",
       "</style>\n",
       "<table border=\"1\" class=\"dataframe\">\n",
       "  <thead>\n",
       "    <tr style=\"text-align: right;\">\n",
       "      <th></th>\n",
       "      <th>id</th>\n",
       "      <th>stress</th>\n",
       "    </tr>\n",
       "  </thead>\n",
       "  <tbody>\n",
       "    <tr>\n",
       "      <th>29955</th>\n",
       "      <td>29955</td>\n",
       "      <td>2</td>\n",
       "    </tr>\n",
       "    <tr>\n",
       "      <th>29956</th>\n",
       "      <td>29956</td>\n",
       "      <td>2</td>\n",
       "    </tr>\n",
       "    <tr>\n",
       "      <th>29957</th>\n",
       "      <td>29957</td>\n",
       "      <td>2</td>\n",
       "    </tr>\n",
       "    <tr>\n",
       "      <th>29958</th>\n",
       "      <td>29958</td>\n",
       "      <td>3</td>\n",
       "    </tr>\n",
       "    <tr>\n",
       "      <th>29959</th>\n",
       "      <td>29959</td>\n",
       "      <td>4</td>\n",
       "    </tr>\n",
       "  </tbody>\n",
       "</table>\n",
       "</div>"
      ],
      "text/plain": [
       "          id  stress\n",
       "29955  29955       2\n",
       "29956  29956       2\n",
       "29957  29957       2\n",
       "29958  29958       3\n",
       "29959  29959       4"
      ]
     },
     "execution_count": 29,
     "metadata": {},
     "output_type": "execute_result"
    }
   ],
   "source": [
    "# look on the submission dataset\n",
    "final_subm.tail(5)"
   ]
  },
  {
   "cell_type": "code",
   "execution_count": 30,
   "metadata": {},
   "outputs": [],
   "source": [
    "# create .csv file\n",
    "final_subm.to_csv('./stress_subm.csv', index=False)"
   ]
  }
 ],
 "metadata": {
  "kernelspec": {
   "display_name": "auto_lama",
   "language": "python",
   "name": "auto_lama"
  },
  "language_info": {
   "codemirror_mode": {
    "name": "ipython",
    "version": 3
   },
   "file_extension": ".py",
   "mimetype": "text/x-python",
   "name": "python",
   "nbconvert_exporter": "python",
   "pygments_lexer": "ipython3",
   "version": "3.9.10"
  },
  "orig_nbformat": 4,
  "vscode": {
   "interpreter": {
    "hash": "020ea6f1ed30bb78851b873cd0a743ccce7cefd492fb502f49b8ecefb4465a46"
   }
  }
 },
 "nbformat": 4,
 "nbformat_minor": 2
}
